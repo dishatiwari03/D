{
 "cells": [
  {
   "cell_type": "code",
   "execution_count": null,
   "id": "58c9fe55-a96e-4e5a-b422-0f3426f415eb",
   "metadata": {},
   "outputs": [],
   "source": [
    "import nltk\n",
    "import numpy as np\n",
    "import random\n",
    "import string"
   ]
  },
  {
   "cell_type": "code",
   "execution_count": null,
   "id": "55dfd461-8815-473b-8ffd-60361e2419f7",
   "metadata": {},
   "outputs": [],
   "source": [
    "f= open('data.txt')\n",
    "doc = f.read()"
   ]
  },
  {
   "cell_type": "code",
   "execution_count": null,
   "id": "9ac678f7-b5f7-4077-aeb5-c31b099156c3",
   "metadata": {},
   "outputs": [],
   "source": [
    "doc = doc.lower()\n",
    "nltk.download('punkt')\n",
    "nltk.download('wordnet')\n",
    "nltk.download('omw-1.4')\n",
    "sentence_tokens = nltk.sent_tokenize(doc)\n",
    "word_tokens = nltk.word_tokenize(doc)"
   ]
  },
  {
   "cell_type": "code",
   "execution_count": null,
   "id": "e3a64d04-cf1b-4d06-8907-3329afeaced8",
   "metadata": {},
   "outputs": [],
   "source": [
    "doc"
   ]
  },
  {
   "cell_type": "code",
   "execution_count": null,
   "id": "1da011be-62ce-4617-800c-e7c4fadeb2fb",
   "metadata": {},
   "outputs": [],
   "source": [
    "sentence_tokens"
   ]
  },
  {
   "cell_type": "code",
   "execution_count": null,
   "id": "8e5c816e-d8b1-4f79-8581-6b44e17e64d3",
   "metadata": {},
   "outputs": [],
   "source": [
    "lemmer = nltk.stem.WordNetLemmatizer()\n",
    "def LemTokens(tokens):\n",
    "    return [lemmer.lemmatize(token) for token in tokens]\n",
    "remove_punc_dist = dict((ord(punct),None) for punct in string.punctuation)\n",
    "def LemNormalize(text):\n",
    "    return LemTokens(nltk.word_tokenize(text.lower().translate(remove_punc_dist)))"
   ]
  },
  {
   "cell_type": "code",
   "execution_count": null,
   "id": "61e86d40-31b5-42a4-bae9-95cb1f3044af",
   "metadata": {},
   "outputs": [],
   "source": [
    "greet_inputs = ('hello','hi','whassup','how are you?')\n",
    "greet_responses = ('hi','Hey','Hey There!',\"fine what 'bout you?\")\n",
    "def greet(sentence):\n",
    "    for word in sentence.split():\n",
    "        if word.lower() in greet_inputs:\n",
    "            return random.choice(greet_responses)"
   ]
  },
  {
   "cell_type": "code",
   "execution_count": null,
   "id": "8199ab03-1e1e-4663-b7a0-2653de90ff6a",
   "metadata": {},
   "outputs": [],
   "source": [
    "from sklearn.feature_extraction.text import TfidfVectorizer\n",
    "from sklearn.metrics.pairwise import cosine_similarity"
   ]
  },
  {
   "cell_type": "code",
   "execution_count": null,
   "id": "a2579d1c-3287-4c82-b191-9e916fafca7f",
   "metadata": {},
   "outputs": [],
   "source": [
    "def response(user_response):\n",
    "    robo1_response = ' ' \n",
    "    vectorizer = TfidfVectorizer(tokenizer = LemNormalize,stop_words = 'english')\n",
    "    inquiries_tfidf = vectorizer.fit_transform(sentence_tokens)\n",
    "    vals = cosine_similarity(inquiries_tfidf[-1],inquiries_tfidf)\n",
    "    idx = vals.argsort()[0][-2]\n",
    "    flat = vals.flatten()\n",
    "    flat.sort()\n",
    "    req_tfidf = flat[-2]\n",
    "    if(req_tfidf ==0):\n",
    "        robo1_response = robo1_response + 'I am sorry.Unable to understand you!'\n",
    "    else:\n",
    "        robo1_response = robo1_response + sentence_tokens[idx]\n",
    "        return robo1_response"
   ]
  },
  {
   "cell_type": "code",
   "execution_count": null,
   "id": "e3a80e40-3e35-4255-bdbb-0dbfc724ac1c",
   "metadata": {},
   "outputs": [],
   "source": []
  },
  {
   "cell_type": "code",
   "execution_count": null,
   "id": "7134c856-a82f-48ee-8a54-bab9c9c838a2",
   "metadata": {},
   "outputs": [],
   "source": [
    "flag = True \n",
    "print('Hello! I am the mr.siri . tell me your quiries. For ending conversation  type bye!')\n",
    "while(flag == True):\n",
    "    user_response = input()\n",
    "    user_response = user_response.lower()\n",
    "    if(user_response != 'bye'):\n",
    "        if(user_response == 'thank you' or user_response == 'thanks'):\n",
    "            flag = False\n",
    "            print('Bot: You are Welcome..')\n",
    "        else:\n",
    "         if(greet(user_response) != None):\n",
    "             print('Bot '+ greet(user_response))\n",
    "         else:\n",
    "             sentence_tokens.append(user_response)\n",
    "             word_tokens = word_tokens + nltk.word_tokenize(user_response)\n",
    "             final_words = list(set(word_tokens))\n",
    "             print('Bot ',end=' ' )\n",
    "             print(response(user_response))\n",
    "             sentence_tokens.remove(user_response)\n",
    "    else:\n",
    "     flag = False\n",
    "     print('Bot : bye,Have a great day!! ')"
   ]
  }
 ],
 "metadata": {
  "kernelspec": {
   "display_name": "Python 3 (ipykernel)",
   "language": "python",
   "name": "python3"
  },
  "language_info": {
   "codemirror_mode": {
    "name": "ipython",
    "version": 3
   },
   "file_extension": ".py",
   "mimetype": "text/x-python",
   "name": "python",
   "nbconvert_exporter": "python",
   "pygments_lexer": "ipython3",
   "version": "3.11.7"
  }
 },
 "nbformat": 4,
 "nbformat_minor": 5
}
